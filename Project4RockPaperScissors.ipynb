{
  "nbformat": 4,
  "nbformat_minor": 0,
  "metadata": {
    "colab": {
      "provenance": [],
      "authorship_tag": "ABX9TyMJovey0jcsmuZomuNAONVs"
    },
    "kernelspec": {
      "name": "python3",
      "display_name": "Python 3"
    },
    "language_info": {
      "name": "python"
    }
  },
  "cells": [
    {
      "cell_type": "code",
      "execution_count": 47,
      "metadata": {
        "colab": {
          "base_uri": "https://localhost:8080/"
        },
        "id": "k_6ZRV-5Lm57",
        "outputId": "423987c2-c992-4e1e-cb72-2978ce9ecfba"
      },
      "outputs": [
        {
          "output_type": "stream",
          "name": "stdout",
          "text": [
            "What do you choose? Type 0 for Rock, 1 for Paper or 2 for Scissors.\n",
            "2\n",
            "\n",
            "    _______\n",
            "---'   ____)____\n",
            "          ______)\n",
            "       __________)\n",
            "      (____)\n",
            "---.__(___)\n",
            "\n",
            "Computer chose:\n",
            "\n",
            "    _______\n",
            "---'   ____)____\n",
            "          ______)\n",
            "          _______)\n",
            "         _______)\n",
            "---.__________)\n",
            "\n",
            "You win!\n"
          ]
        }
      ],
      "source": [
        "rock = '''\n",
        "    _______\n",
        "---'   ____)\n",
        "      (_____)\n",
        "      (_____)\n",
        "      (____)\n",
        "---.__(___)\n",
        "'''\n",
        "\n",
        "paper = '''\n",
        "    _______\n",
        "---'   ____)____\n",
        "          ______)\n",
        "          _______)\n",
        "         _______)\n",
        "---.__________)\n",
        "'''\n",
        "\n",
        "scissors = '''\n",
        "    _______\n",
        "---'   ____)____\n",
        "          ______)\n",
        "       __________)\n",
        "      (____)\n",
        "---.__(___)\n",
        "'''\n",
        "\n",
        "import random\n",
        "\n",
        "gameimages = [rock, paper, scissors]\n",
        "\n",
        "userchoice = int(input(\"What do you choose? Type 0 for Rock, 1 for Paper or 2 for Scissors.\\n\"))\n",
        "if userchoice >= 3 or userchoice < 0:\n",
        "  print(\"Invalid number. You lose\")\n",
        "else:\n",
        "  print(gameimages[userchoice])\n",
        "\n",
        "  computerchoice = random.randint(0,2)\n",
        "  print(\"Computer chose:\")\n",
        "  print(gameimages[computerchoice])\n",
        "\n",
        "\n",
        "  #if (userchoice == 0 and computerchoice == 2) or (userchoice == 1 and computerchoice == 0) or (userchoice == 2 and computerchoice == 1):\n",
        "  #  print(\"You win\")\n",
        "  #elif (userchoice == 0 and computerchoice == 0) or (userchoice == 1 and computerchoice == 1) or (userchoice == 2 and computerchoice == 2):\n",
        "  # print(\"It\\'s a draw\")\n",
        "  #else:\n",
        "  #  print(\"You lose\")\n",
        "\n",
        "  if userchoice == 0 and computerchoice == 2:\n",
        "    print(\"You win!\")\n",
        "  elif computerchoice == 0 and userchoice == 2:\n",
        "    print(\"You lose!\")\n",
        "  elif computerchoice > userchoice:\n",
        "    print(\"You lose!\")\n",
        "  elif userchoice > computerchoice:\n",
        "    print(\"You win!\")\n",
        "  elif userchoice == userchoice:\n",
        "    print(\"It\\'s a draw!\")\n",
        "  elif userchoice >= 3:\n",
        "    print(\"Invalid number. You lose\")"
      ]
    }
  ]
}