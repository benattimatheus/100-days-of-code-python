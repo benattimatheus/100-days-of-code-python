{
  "nbformat": 4,
  "nbformat_minor": 0,
  "metadata": {
    "colab": {
      "provenance": [],
      "authorship_tag": "ABX9TyMw0Ym27i68KEdKAjl2W979"
    },
    "kernelspec": {
      "name": "python3",
      "display_name": "Python 3"
    },
    "language_info": {
      "name": "python"
    }
  },
  "cells": [
    {
      "cell_type": "code",
      "execution_count": null,
      "metadata": {
        "id": "xIfcQjM371MZ"
      },
      "outputs": [],
      "source": [
        "#Projeto 1 - Band Name\n",
        "print('Welcome to the Band Name Generator.')\n",
        "city = input(\"What's the name of the city you grew up in?\\n\")\n",
        "pet = input(\"What's the name of your pet?\\n\")\n",
        "print(\"The name of your band could be \" + city + \" \" + pet)"
      ]
    }
  ]
}
