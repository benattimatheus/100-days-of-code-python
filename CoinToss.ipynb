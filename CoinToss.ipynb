{
  "nbformat": 4,
  "nbformat_minor": 0,
  "metadata": {
    "colab": {
      "provenance": [],
      "authorship_tag": "ABX9TyNsBz5++up1BsYu7YLSN/CA"
    },
    "kernelspec": {
      "name": "python3",
      "display_name": "Python 3"
    },
    "language_info": {
      "name": "python"
    }
  },
  "cells": [
    {
      "cell_type": "code",
      "execution_count": null,
      "metadata": {
        "id": "3K5WubiQdZGt"
      },
      "outputs": [],
      "source": [
        "import random\n",
        "\n",
        "coin = random.randint(0,1)\n",
        "\n",
        "if coin == 1:\n",
        "    print(\"Heads\")\n",
        "else:\n",
        "    print(\"Tails\")"
      ]
    }
  ]
}