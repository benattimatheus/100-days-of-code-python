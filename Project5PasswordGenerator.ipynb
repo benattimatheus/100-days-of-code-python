{
  "nbformat": 4,
  "nbformat_minor": 0,
  "metadata": {
    "colab": {
      "provenance": [],
      "authorship_tag": "ABX9TyP6SPIz/YwLTFrm35J4flG9"
    },
    "kernelspec": {
      "name": "python3",
      "display_name": "Python 3"
    },
    "language_info": {
      "name": "python"
    }
  },
  "cells": [
    {
      "cell_type": "code",
      "execution_count": 4,
      "metadata": {
        "colab": {
          "base_uri": "https://localhost:8080/"
        },
        "id": "DpJu6mS5YcUV",
        "outputId": "59a1bc0b-e0ae-4840-f46a-2deab43bd390"
      },
      "outputs": [
        {
          "output_type": "stream",
          "name": "stdout",
          "text": [
            "Welcome to the PyPassword Generator!\n",
            "How many letters would you like in your password?\n",
            "2\n",
            "How many symbols would you like?\n",
            "2\n",
            "How many numbers would you like?\n",
            "2\n",
            "Your password is: h$v21#\n"
          ]
        }
      ],
      "source": [
        "import random\n",
        "letters = ['a', 'b', 'c', 'd', 'e', 'f', 'g', 'h', 'i', 'j', 'k', 'l', 'm', 'n', 'o', 'p', 'q', 'r', 's', 't', 'u', 'v', 'w', 'x', 'y', 'z', 'A', 'B', 'C', 'D', 'E', 'F', 'G', 'H', 'I', 'J', 'K', 'L', 'M', 'N', 'O', 'P', 'Q', 'R', 'S', 'T', 'U', 'V', 'W', 'X', 'Y', 'Z']\n",
        "numbers = ['0', '1', '2', '3', '4', '5', '6', '7', '8', '9']\n",
        "symbols = ['!', '#', '$', '%', '&', '(', ')', '*', '+']\n",
        "\n",
        "print(\"Welcome to the PyPassword Generator!\")\n",
        "nr_letters = int(input(\"How many letters would you like in your password?\\n\")) \n",
        "nr_symbols = int(input(f\"How many symbols would you like?\\n\"))\n",
        "nr_numbers = int(input(f\"How many numbers would you like?\\n\"))\n",
        "\n",
        "passwordlist= []\n",
        "\n",
        "for char in range (1, nr_letters + 1):\n",
        "    passwordlist.append(random.choice(letters))\n",
        "for char in range (1, nr_symbols + 1):\n",
        "    passwordlist.append(random.choice(symbols))\n",
        "for char in range (1, nr_numbers +1):\n",
        "    passwordlist.append(random.choice(numbers))\n",
        "\n",
        "random.shuffle(passwordlist)\n",
        "\n",
        "password = \" \"\n",
        "for char in passwordlist:\n",
        "    password += char\n",
        "\n",
        "print(f\"Your password is:{password}\")"
      ]
    }
  ]
}