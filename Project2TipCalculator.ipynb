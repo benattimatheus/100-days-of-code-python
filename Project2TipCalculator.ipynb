{
  "nbformat": 4,
  "nbformat_minor": 0,
  "metadata": {
    "colab": {
      "provenance": [],
      "authorship_tag": "ABX9TyNtWPlD1a/j4pN1uwanQs8o",
      "include_colab_link": true
    },
    "kernelspec": {
      "name": "python3",
      "display_name": "Python 3"
    },
    "language_info": {
      "name": "python"
    }
  },
  "cells": [
    {
      "cell_type": "markdown",
      "metadata": {
        "id": "view-in-github",
        "colab_type": "text"
      },
      "source": [
        "<a href=\"https://colab.research.google.com/github/benattimatheus/100DaysPython/blob/main/Project2TipCalculator.ipynb\" target=\"_parent\"><img src=\"https://colab.research.google.com/assets/colab-badge.svg\" alt=\"Open In Colab\"/></a>"
      ]
    },
    {
      "cell_type": "code",
      "execution_count": 21,
      "metadata": {
        "colab": {
          "base_uri": "https://localhost:8080/"
        },
        "id": "EPyfOoRIhrOS",
        "outputId": "a47347da-1df5-4104-dde4-1957174c7352"
      },
      "outputs": [
        {
          "output_type": "stream",
          "name": "stdout",
          "text": [
            "Welcome to the tip calculator.\n",
            "What was the total bill? $ 150\n",
            "What percentage tip would you like to give? 10, 12, or 15? 12\n",
            "How many people are to split the bill? 5\n",
            "Each person will have to pay $33.60\n"
          ]
        }
      ],
      "source": [
        "print(\"Welcome to the tip calculator.\")\n",
        "bill = float(input(\"What was the total bill? $ \"))\n",
        "percentage = int(input(\"What percentage tip would you like to give? 10, 12, or 15? \"))\n",
        "people = int(input(\"How many people are to split the bill? \"))\n",
        "final = (bill / people * (1 + percentage / 100)) \n",
        "print(f\"Each person will have to pay ${final:.2f}\")"
      ]
    }
  ]
}